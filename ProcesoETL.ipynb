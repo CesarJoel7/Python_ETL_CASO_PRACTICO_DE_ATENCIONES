{
 "cells": [
  {
   "cell_type": "markdown",
   "metadata": {},
   "source": [
    "LECTURA SIN ENCABEZADOS"
   ]
  },
  {
   "cell_type": "code",
   "execution_count": 24,
   "metadata": {},
   "outputs": [
    {
     "data": {
      "text/html": [
       "<div><style>\n",
       ".dataframe > thead > tr,\n",
       ".dataframe > tbody > tr {\n",
       "  text-align: right;\n",
       "  white-space: pre-wrap;\n",
       "}\n",
       "</style>\n",
       "<small>shape: (9_206, 4)</small><table border=\"1\" class=\"dataframe\"><thead><tr><th>TicketID</th><th>Estado</th><th>Fecha Creacion</th><th>Clasificacion</th></tr><tr><td>str</td><td>str</td><td>date</td><td>i64</td></tr></thead><tbody><tr><td>&quot;WO0000004122687&quot;</td><td>&quot;Cerrado&quot;</td><td>2022-06-01</td><td>3</td></tr><tr><td>&quot;WO0000004122649&quot;</td><td>&quot;Cerrado&quot;</td><td>2022-06-01</td><td>3</td></tr><tr><td>&quot;WO0000004122502&quot;</td><td>&quot;Cerrado&quot;</td><td>2022-06-01</td><td>3</td></tr><tr><td>&quot;WO0000004122513&quot;</td><td>&quot;Cerrado&quot;</td><td>2022-06-01</td><td>3</td></tr><tr><td>&quot;WO0000004122741&quot;</td><td>&quot;Cerrado&quot;</td><td>2022-06-01</td><td>3</td></tr><tr><td>&hellip;</td><td>&hellip;</td><td>&hellip;</td><td>&hellip;</td></tr><tr><td>&quot;WO0000004848619&quot;</td><td>&quot;Cerrado&quot;</td><td>2022-12-31</td><td>3</td></tr><tr><td>&quot;WO0000004848666&quot;</td><td>&quot;Cerrado&quot;</td><td>2022-12-31</td><td>3</td></tr><tr><td>&quot;WO0000004848654&quot;</td><td>&quot;Cerrado&quot;</td><td>2022-12-31</td><td>3</td></tr><tr><td>&quot;WO0000004849355&quot;</td><td>&quot;Cerrado&quot;</td><td>2022-12-31</td><td>3</td></tr><tr><td>&quot;WO0000004848638&quot;</td><td>&quot;Cerrado&quot;</td><td>2022-12-31</td><td>3</td></tr></tbody></table></div>"
      ],
      "text/plain": [
       "shape: (9_206, 4)\n",
       "┌─────────────────┬─────────┬────────────────┬───────────────┐\n",
       "│ TicketID        ┆ Estado  ┆ Fecha Creacion ┆ Clasificacion │\n",
       "│ ---             ┆ ---     ┆ ---            ┆ ---           │\n",
       "│ str             ┆ str     ┆ date           ┆ i64           │\n",
       "╞═════════════════╪═════════╪════════════════╪═══════════════╡\n",
       "│ WO0000004122687 ┆ Cerrado ┆ 2022-06-01     ┆ 3             │\n",
       "│ WO0000004122649 ┆ Cerrado ┆ 2022-06-01     ┆ 3             │\n",
       "│ WO0000004122502 ┆ Cerrado ┆ 2022-06-01     ┆ 3             │\n",
       "│ WO0000004122513 ┆ Cerrado ┆ 2022-06-01     ┆ 3             │\n",
       "│ WO0000004122741 ┆ Cerrado ┆ 2022-06-01     ┆ 3             │\n",
       "│ …               ┆ …       ┆ …              ┆ …             │\n",
       "│ WO0000004848619 ┆ Cerrado ┆ 2022-12-31     ┆ 3             │\n",
       "│ WO0000004848666 ┆ Cerrado ┆ 2022-12-31     ┆ 3             │\n",
       "│ WO0000004848654 ┆ Cerrado ┆ 2022-12-31     ┆ 3             │\n",
       "│ WO0000004849355 ┆ Cerrado ┆ 2022-12-31     ┆ 3             │\n",
       "│ WO0000004848638 ┆ Cerrado ┆ 2022-12-31     ┆ 3             │\n",
       "└─────────────────┴─────────┴────────────────┴───────────────┘"
      ]
     },
     "execution_count": 24,
     "metadata": {},
     "output_type": "execute_result"
    }
   ],
   "source": [
    "import polars as pl\n",
    "from polars import Config\n",
    "\n",
    "Config.set_fmt_str_lengths(100)\n",
    "\n",
    "#Leyendo el archivo SinEncabezado.txt\n",
    "\n",
    "df = pl.read_csv(\n",
    "    source = './Tickets/SinEncabezado.txt', \n",
    "    separator =';', \n",
    "    has_header= False,\n",
    "    schema= { \n",
    "        \"TicketID\" : pl.Utf8,\n",
    "        \"Estado\" : pl.Utf8,\n",
    "        \"Fecha Creacion\" : pl.Date,\n",
    "        \"Clasificacion\" : pl.Int64\n",
    "            },\n",
    "    ignore_errors= True #BP Mejora\n",
    "            )\n",
    "\n",
    "df"
   ]
  },
  {
   "cell_type": "markdown",
   "metadata": {},
   "source": [
    "ARCHIVO TICKETS HISTORICO"
   ]
  },
  {
   "cell_type": "code",
   "execution_count": 25,
   "metadata": {},
   "outputs": [
    {
     "data": {
      "text/html": [
       "<div><style>\n",
       ".dataframe > thead > tr,\n",
       ".dataframe > tbody > tr {\n",
       "  text-align: right;\n",
       "  white-space: pre-wrap;\n",
       "}\n",
       "</style>\n",
       "<small>shape: (9_206, 7)</small><table border=\"1\" class=\"dataframe\"><thead><tr><th>TicketID</th><th>Ubicacion</th><th>Service Desk</th><th>Estado</th><th>Fecha Creacion</th><th>Fecha Termino</th><th>Fecha Cierre</th></tr><tr><td>str</td><td>str</td><td>str</td><td>str</td><td>date</td><td>date</td><td>date</td></tr></thead><tbody><tr><td>&quot;WO0000004122687&quot;</td><td>&quot;AREQUIPA - 215000&quot;</td><td>&quot;Zona Norte&quot;</td><td>&quot;Cerrado&quot;</td><td>2022-06-01</td><td>2022-06-14</td><td>2022-06-14</td></tr><tr><td>&quot;WO0000004122649&quot;</td><td>&quot;METRO AV. WIESSE - 191106&quot;</td><td>&quot;Zona Centro&quot;</td><td>&quot;Cerrado&quot;</td><td>2022-06-01</td><td>2022-06-17</td><td>2022-06-17</td></tr><tr><td>&quot;WO0000004122502&quot;</td><td>&quot;NICOLAS AYLLON - 191027&quot;</td><td>&quot;Zona Centro&quot;</td><td>&quot;Cerrado&quot;</td><td>2022-06-01</td><td>2022-06-08</td><td>2022-06-08</td></tr><tr><td>&quot;WO0000004122513&quot;</td><td>&quot;JAUREGUI - 405005&quot;</td><td>&quot;Zona Norte&quot;</td><td>&quot;Cerrado&quot;</td><td>2022-06-01</td><td>2022-06-18</td><td>2022-06-18</td></tr><tr><td>&quot;WO0000004122741&quot;</td><td>&quot;CANTO GRANDE - 191096&quot;</td><td>&quot;Zona Centro&quot;</td><td>&quot;Cerrado&quot;</td><td>2022-06-01</td><td>2022-06-08</td><td>2022-06-08</td></tr><tr><td>&hellip;</td><td>&hellip;</td><td>&hellip;</td><td>&hellip;</td><td>&hellip;</td><td>&hellip;</td><td>&hellip;</td></tr><tr><td>&quot;WO0000004848619&quot;</td><td>&quot;ILO - 385000&quot;</td><td>&quot;Zona Norte&quot;</td><td>&quot;Cerrado&quot;</td><td>2022-12-31</td><td>2023-01-09</td><td>2023-01-12</td></tr><tr><td>&quot;WO0000004848666&quot;</td><td>&quot;QUILCA - 191160&quot;</td><td>&quot;Zona Centro&quot;</td><td>&quot;Cerrado&quot;</td><td>2022-12-31</td><td>2023-01-04</td><td>2023-01-07</td></tr><tr><td>&quot;WO0000004848654&quot;</td><td>&quot;MERCADO DE FRUTAS - 191064&quot;</td><td>&quot;Zona Centro&quot;</td><td>&quot;Cerrado&quot;</td><td>2022-12-31</td><td>2023-01-13</td><td>2023-01-16</td></tr><tr><td>&quot;WO0000004849355&quot;</td><td>&quot;VITARTE - 191043&quot;</td><td>&quot;Zona Centro&quot;</td><td>&quot;Cerrado&quot;</td><td>2022-12-31</td><td>2023-01-03</td><td>2023-01-06</td></tr><tr><td>&quot;WO0000004848638&quot;</td><td>&quot;VILLA SOL - 191059&quot;</td><td>&quot;Zona Centro&quot;</td><td>&quot;Cerrado&quot;</td><td>2022-12-31</td><td>2022-12-31</td><td>2023-01-03</td></tr></tbody></table></div>"
      ],
      "text/plain": [
       "shape: (9_206, 7)\n",
       "┌──────────────┬──────────────┬──────────────┬─────────┬──────────────┬──────────────┬─────────────┐\n",
       "│ TicketID     ┆ Ubicacion    ┆ Service Desk ┆ Estado  ┆ Fecha        ┆ Fecha        ┆ Fecha       │\n",
       "│ ---          ┆ ---          ┆ ---          ┆ ---     ┆ Creacion     ┆ Termino      ┆ Cierre      │\n",
       "│ str          ┆ str          ┆ str          ┆ str     ┆ ---          ┆ ---          ┆ ---         │\n",
       "│              ┆              ┆              ┆         ┆ date         ┆ date         ┆ date        │\n",
       "╞══════════════╪══════════════╪══════════════╪═════════╪══════════════╪══════════════╪═════════════╡\n",
       "│ WO0000004122 ┆ AREQUIPA -   ┆ Zona Norte   ┆ Cerrado ┆ 2022-06-01   ┆ 2022-06-14   ┆ 2022-06-14  │\n",
       "│ 687          ┆ 215000       ┆              ┆         ┆              ┆              ┆             │\n",
       "│ WO0000004122 ┆ METRO AV.    ┆ Zona Centro  ┆ Cerrado ┆ 2022-06-01   ┆ 2022-06-17   ┆ 2022-06-17  │\n",
       "│ 649          ┆ WIESSE -     ┆              ┆         ┆              ┆              ┆             │\n",
       "│              ┆ 191106       ┆              ┆         ┆              ┆              ┆             │\n",
       "│ WO0000004122 ┆ NICOLAS      ┆ Zona Centro  ┆ Cerrado ┆ 2022-06-01   ┆ 2022-06-08   ┆ 2022-06-08  │\n",
       "│ 502          ┆ AYLLON -     ┆              ┆         ┆              ┆              ┆             │\n",
       "│              ┆ 191027       ┆              ┆         ┆              ┆              ┆             │\n",
       "│ WO0000004122 ┆ JAUREGUI -   ┆ Zona Norte   ┆ Cerrado ┆ 2022-06-01   ┆ 2022-06-18   ┆ 2022-06-18  │\n",
       "│ 513          ┆ 405005       ┆              ┆         ┆              ┆              ┆             │\n",
       "│ WO0000004122 ┆ CANTO GRANDE ┆ Zona Centro  ┆ Cerrado ┆ 2022-06-01   ┆ 2022-06-08   ┆ 2022-06-08  │\n",
       "│ 741          ┆ - 191096     ┆              ┆         ┆              ┆              ┆             │\n",
       "│ …            ┆ …            ┆ …            ┆ …       ┆ …            ┆ …            ┆ …           │\n",
       "│ WO0000004848 ┆ ILO - 385000 ┆ Zona Norte   ┆ Cerrado ┆ 2022-12-31   ┆ 2023-01-09   ┆ 2023-01-12  │\n",
       "│ 619          ┆              ┆              ┆         ┆              ┆              ┆             │\n",
       "│ WO0000004848 ┆ QUILCA -     ┆ Zona Centro  ┆ Cerrado ┆ 2022-12-31   ┆ 2023-01-04   ┆ 2023-01-07  │\n",
       "│ 666          ┆ 191160       ┆              ┆         ┆              ┆              ┆             │\n",
       "│ WO0000004848 ┆ MERCADO DE   ┆ Zona Centro  ┆ Cerrado ┆ 2022-12-31   ┆ 2023-01-13   ┆ 2023-01-16  │\n",
       "│ 654          ┆ FRUTAS -     ┆              ┆         ┆              ┆              ┆             │\n",
       "│              ┆ 191064       ┆              ┆         ┆              ┆              ┆             │\n",
       "│ WO0000004849 ┆ VITARTE -    ┆ Zona Centro  ┆ Cerrado ┆ 2022-12-31   ┆ 2023-01-03   ┆ 2023-01-06  │\n",
       "│ 355          ┆ 191043       ┆              ┆         ┆              ┆              ┆             │\n",
       "│ WO0000004848 ┆ VILLA SOL -  ┆ Zona Centro  ┆ Cerrado ┆ 2022-12-31   ┆ 2022-12-31   ┆ 2023-01-03  │\n",
       "│ 638          ┆ 191059       ┆              ┆         ┆              ┆              ┆             │\n",
       "└──────────────┴──────────────┴──────────────┴─────────┴──────────────┴──────────────┴─────────────┘"
      ]
     },
     "execution_count": 25,
     "metadata": {},
     "output_type": "execute_result"
    }
   ],
   "source": [
    "import polars as pl\n",
    "from polars import Config\n",
    "\n",
    "Config.set_fmt_str_lengths(100)\n",
    "\n",
    "# Importe la base “Tickets Historico.txt”, indicando que solo se importen las\n",
    "# columnas: Numero Ticket, Ubicacion, Service Desk, Estado, Fecha Creacion,\n",
    "# Fecha Termino y Fecha Cierre. Las columnas Fecha Creacion, Fecha Termino y\n",
    "# Fecha Cierre deberán tener el tipo de dato fecha.\n",
    "\n",
    "df_Tickets_Historico = pl.read_csv(\n",
    "    source = './Tickets/Tickets Historico.TXT', \n",
    "    separator= ';', \n",
    "    has_header= True,\n",
    "    columns= ['Numero Ticket', 'Ubicacion', 'Service Desk', 'Estado', 'Fecha Creacion', 'Fecha Termino', 'Fecha Cierre'],\n",
    "    try_parse_dates= True,\n",
    "    ignore_errors= True\n",
    "    )\n",
    "\n",
    "# Renombre la columna “Numero Ticket” por “TicketID”.\n",
    "\n",
    "df_Tickets_Historico = df_Tickets_Historico.rename({\"Numero Ticket\" : \"TicketID\"})\n",
    "\n",
    "\n",
    "df_Tickets_Historico"
   ]
  },
  {
   "cell_type": "markdown",
   "metadata": {},
   "source": [
    "ARCHIVO TICKETS ACTUAL"
   ]
  },
  {
   "cell_type": "code",
   "execution_count": 26,
   "metadata": {},
   "outputs": [
    {
     "data": {
      "text/html": [
       "<div><style>\n",
       ".dataframe > thead > tr,\n",
       ".dataframe > tbody > tr {\n",
       "  text-align: right;\n",
       "  white-space: pre-wrap;\n",
       "}\n",
       "</style>\n",
       "<small>shape: (13_022, 7)</small><table border=\"1\" class=\"dataframe\"><thead><tr><th>TicketID</th><th>Ubicacion</th><th>Service Desk</th><th>Estado</th><th>Fecha Creacion</th><th>Fecha Termino</th><th>Fecha Cierre</th></tr><tr><td>str</td><td>str</td><td>str</td><td>str</td><td>date</td><td>date</td><td>date</td></tr></thead><tbody><tr><td>&quot;WO0000004853311&quot;</td><td>&quot;TUPAC AMARU - 191038&quot;</td><td>&quot;Zona Centro&quot;</td><td>&quot;Cerrado&quot;</td><td>2023-01-02</td><td>2023-01-10</td><td>2023-01-13</td></tr><tr><td>&quot;WO0000004852942&quot;</td><td>&quot;SAN JUAN DE LURIGANCHO - 191017&quot;</td><td>&quot;Zona Centro&quot;</td><td>&quot;Cerrado&quot;</td><td>2023-01-02</td><td>2023-01-02</td><td>2023-01-05</td></tr><tr><td>&quot;WO0000004852621&quot;</td><td>&quot;MARIANO MELGAR - 215014&quot;</td><td>&quot;Zona Norte&quot;</td><td>&quot;Cerrado&quot;</td><td>2023-01-02</td><td>2023-01-06</td><td>2023-01-09</td></tr><tr><td>&quot;WO0000004853328&quot;</td><td>&quot;ANDAHUAYLAS - 205000&quot;</td><td>&quot;Zona Norte&quot;</td><td>&quot;Cerrado&quot;</td><td>2023-01-02</td><td>2023-01-07</td><td>2023-01-10</td></tr><tr><td>&quot;WO0000004853160&quot;</td><td>&quot;COLLIQUE - 191065&quot;</td><td>&quot;Zona Centro&quot;</td><td>&quot;Cerrado&quot;</td><td>2023-01-02</td><td>2023-01-04</td><td>2023-01-07</td></tr><tr><td>&hellip;</td><td>&hellip;</td><td>&hellip;</td><td>&hellip;</td><td>&hellip;</td><td>&hellip;</td><td>&hellip;</td></tr><tr><td>&quot;WO0000005737139&quot;</td><td>&quot;CANTO GRANDE - 191096&quot;</td><td>&quot;Zona Centro&quot;</td><td>&quot;En curso&quot;</td><td>2023-10-29</td><td>null</td><td>null</td></tr><tr><td>&quot;WO0000005736853&quot;</td><td>&quot;NARANJAL - 191141&quot;</td><td>&quot;Zona Centro&quot;</td><td>&quot;En curso&quot;</td><td>2023-10-29</td><td>null</td><td>null</td></tr><tr><td>&quot;WO0000005736847&quot;</td><td>&quot;NARANJAL - 191141&quot;</td><td>&quot;Zona Centro&quot;</td><td>&quot;En curso&quot;</td><td>2023-10-29</td><td>null</td><td>null</td></tr><tr><td>&quot;WO0000005736845&quot;</td><td>&quot;NARANJAL - 191141&quot;</td><td>&quot;Zona Centro&quot;</td><td>&quot;En curso&quot;</td><td>2023-10-29</td><td>null</td><td>null</td></tr><tr><td>&quot;WO0000005736387&quot;</td><td>&quot;TARAPACA - 191030&quot;</td><td>&quot;Zona Centro&quot;</td><td>&quot;En curso&quot;</td><td>2023-10-29</td><td>null</td><td>null</td></tr></tbody></table></div>"
      ],
      "text/plain": [
       "shape: (13_022, 7)\n",
       "┌──────────────┬──────────────┬──────────────┬──────────┬──────────────┬─────────────┬─────────────┐\n",
       "│ TicketID     ┆ Ubicacion    ┆ Service Desk ┆ Estado   ┆ Fecha        ┆ Fecha       ┆ Fecha       │\n",
       "│ ---          ┆ ---          ┆ ---          ┆ ---      ┆ Creacion     ┆ Termino     ┆ Cierre      │\n",
       "│ str          ┆ str          ┆ str          ┆ str      ┆ ---          ┆ ---         ┆ ---         │\n",
       "│              ┆              ┆              ┆          ┆ date         ┆ date        ┆ date        │\n",
       "╞══════════════╪══════════════╪══════════════╪══════════╪══════════════╪═════════════╪═════════════╡\n",
       "│ WO0000004853 ┆ TUPAC AMARU  ┆ Zona Centro  ┆ Cerrado  ┆ 2023-01-02   ┆ 2023-01-10  ┆ 2023-01-13  │\n",
       "│ 311          ┆ - 191038     ┆              ┆          ┆              ┆             ┆             │\n",
       "│ WO0000004852 ┆ SAN JUAN DE  ┆ Zona Centro  ┆ Cerrado  ┆ 2023-01-02   ┆ 2023-01-02  ┆ 2023-01-05  │\n",
       "│ 942          ┆ LURIGANCHO - ┆              ┆          ┆              ┆             ┆             │\n",
       "│              ┆ 191017       ┆              ┆          ┆              ┆             ┆             │\n",
       "│ WO0000004852 ┆ MARIANO      ┆ Zona Norte   ┆ Cerrado  ┆ 2023-01-02   ┆ 2023-01-06  ┆ 2023-01-09  │\n",
       "│ 621          ┆ MELGAR -     ┆              ┆          ┆              ┆             ┆             │\n",
       "│              ┆ 215014       ┆              ┆          ┆              ┆             ┆             │\n",
       "│ WO0000004853 ┆ ANDAHUAYLAS  ┆ Zona Norte   ┆ Cerrado  ┆ 2023-01-02   ┆ 2023-01-07  ┆ 2023-01-10  │\n",
       "│ 328          ┆ - 205000     ┆              ┆          ┆              ┆             ┆             │\n",
       "│ WO0000004853 ┆ COLLIQUE -   ┆ Zona Centro  ┆ Cerrado  ┆ 2023-01-02   ┆ 2023-01-04  ┆ 2023-01-07  │\n",
       "│ 160          ┆ 191065       ┆              ┆          ┆              ┆             ┆             │\n",
       "│ …            ┆ …            ┆ …            ┆ …        ┆ …            ┆ …           ┆ …           │\n",
       "│ WO0000005737 ┆ CANTO GRANDE ┆ Zona Centro  ┆ En curso ┆ 2023-10-29   ┆ null        ┆ null        │\n",
       "│ 139          ┆ - 191096     ┆              ┆          ┆              ┆             ┆             │\n",
       "│ WO0000005736 ┆ NARANJAL -   ┆ Zona Centro  ┆ En curso ┆ 2023-10-29   ┆ null        ┆ null        │\n",
       "│ 853          ┆ 191141       ┆              ┆          ┆              ┆             ┆             │\n",
       "│ WO0000005736 ┆ NARANJAL -   ┆ Zona Centro  ┆ En curso ┆ 2023-10-29   ┆ null        ┆ null        │\n",
       "│ 847          ┆ 191141       ┆              ┆          ┆              ┆             ┆             │\n",
       "│ WO0000005736 ┆ NARANJAL -   ┆ Zona Centro  ┆ En curso ┆ 2023-10-29   ┆ null        ┆ null        │\n",
       "│ 845          ┆ 191141       ┆              ┆          ┆              ┆             ┆             │\n",
       "│ WO0000005736 ┆ TARAPACA -   ┆ Zona Centro  ┆ En curso ┆ 2023-10-29   ┆ null        ┆ null        │\n",
       "│ 387          ┆ 191030       ┆              ┆          ┆              ┆             ┆             │\n",
       "└──────────────┴──────────────┴──────────────┴──────────┴──────────────┴─────────────┴─────────────┘"
      ]
     },
     "execution_count": 26,
     "metadata": {},
     "output_type": "execute_result"
    }
   ],
   "source": [
    "#Importe la base “Tickets Actual.txt”, indicando que solo se importen las columnas:\n",
    "#Numero Ticket, Ubicacion, Service Desk, Estado, Fecha Creacion, Fecha Termino\n",
    "#y Fecha Cierre.\n",
    "\n",
    "import polars as pl\n",
    "from polars import Config\n",
    "\n",
    "Config.set_fmt_str_lengths(100)\n",
    "\n",
    "df_Tickets_Actual = pl.read_csv(\n",
    "    source = './Tickets/Tickets Actual.csv', \n",
    "    separator= '|', \n",
    "    has_header= True,\n",
    "    columns= ['Numero Ticket' , 'Ubicacion' , 'Service Desk', 'Estado', 'Fecha Creacion', 'Fecha Termino', 'Fecha Cierre' ]\n",
    ")\n",
    "\n",
    "# Renombre la columna “Numero Ticket” por “TicketID”.\n",
    "\n",
    "df_Tickets_Actual = df_Tickets_Actual.rename({\"Numero Ticket\" : \"TicketID\"})\n",
    "\n",
    "# Asigne el tipo de dato fecha a las columnas Fecha Creacion, Fecha Termino y\n",
    "# Fecha Cierre.\n",
    "\n",
    "df_Tickets_Actual = df_Tickets_Actual.with_columns(\n",
    "    pl.col('Fecha Creacion').str.to_date(\"%Y-%m-%d\"),\n",
    "    pl.col('Fecha Termino').str.to_date(\"%d/%m/%Y\"),\n",
    "    pl.col('Fecha Cierre').str.to_date(\"%d/%m/%Y\")\n",
    ")\n",
    "# Filtre la base actual de tal manera que solo se mantengan aquellos registros\n",
    "# donde el TicketID inicia con WO.\n",
    "\n",
    "df_Tickets_Actual = df_Tickets_Actual.filter(\n",
    "    pl.col('TicketID').str.starts_with('WO')\n",
    ")\n",
    "\n",
    "df_Tickets_Actual"
   ]
  },
  {
   "cell_type": "markdown",
   "metadata": {},
   "source": [
    "CREANDO DATADRAME TICKETS"
   ]
  },
  {
   "cell_type": "code",
   "execution_count": 27,
   "metadata": {},
   "outputs": [
    {
     "data": {
      "text/html": [
       "<div><style>\n",
       ".dataframe > thead > tr,\n",
       ".dataframe > tbody > tr {\n",
       "  text-align: right;\n",
       "  white-space: pre-wrap;\n",
       "}\n",
       "</style>\n",
       "<small>shape: (22_215, 11)</small><table border=\"1\" class=\"dataframe\"><thead><tr><th>TicketID</th><th>Agencia</th><th>AgenciaID</th><th>Service Desk</th><th>Estado</th><th>Fecha Creacion</th><th>Fecha Termino</th><th>Fecha Cierre</th><th>Fecha Real Fin</th><th>Dias Cierre</th><th>Grupo Dias</th></tr><tr><td>str</td><td>str</td><td>i64</td><td>str</td><td>str</td><td>date</td><td>date</td><td>date</td><td>date</td><td>i64</td><td>str</td></tr></thead><tbody><tr><td>&quot;OT0000004849379&quot;</td><td>&quot;NAYLAMP&quot;</td><td>191143</td><td>&quot;Zona Centro&quot;</td><td>&quot;Cerrado&quot;</td><td>2022-12-31</td><td>2023-01-25</td><td>2023-01-28</td><td>2023-01-25</td><td>25</td><td>&quot;+ de 15 días&quot;</td></tr><tr><td>&quot;OT0000004849382&quot;</td><td>&quot;LOS DAMASCOS&quot;</td><td>193038</td><td>&quot;Zona Sur&quot;</td><td>&quot;Cerrado&quot;</td><td>2022-12-31</td><td>2023-01-04</td><td>2023-01-07</td><td>2023-01-04</td><td>4</td><td>&quot;4 a 7 días&quot;</td></tr><tr><td>&quot;OT0000004849726&quot;</td><td>&quot;LUREN&quot;</td><td>380004</td><td>&quot;Zona Sur&quot;</td><td>&quot;Cerrado&quot;</td><td>2022-12-31</td><td>2023-01-02</td><td>2023-01-05</td><td>2023-01-02</td><td>2</td><td>&quot;0 a 3 días&quot;</td></tr><tr><td>&quot;OT0000004849732&quot;</td><td>&quot;EL PINO&quot;</td><td>191087</td><td>&quot;Zona Centro&quot;</td><td>&quot;Cerrado&quot;</td><td>2022-12-31</td><td>2023-01-06</td><td>2023-01-09</td><td>2023-01-06</td><td>6</td><td>&quot;4 a 7 días&quot;</td></tr><tr><td>&quot;SA0000004849307&quot;</td><td>&quot;TUSILAGOS&quot;</td><td>191108</td><td>&quot;Zona Centro&quot;</td><td>&quot;Rechazado&quot;</td><td>2022-12-31</td><td>null</td><td>null</td><td>null</td><td>null</td><td>null</td></tr><tr><td>&hellip;</td><td>&hellip;</td><td>&hellip;</td><td>&hellip;</td><td>&hellip;</td><td>&hellip;</td><td>&hellip;</td><td>&hellip;</td><td>&hellip;</td><td>&hellip;</td><td>&hellip;</td></tr><tr><td>&quot;WO0000005738709&quot;</td><td>&quot;MEGA PLAZA&quot;</td><td>191010</td><td>&quot;Zona Centro&quot;</td><td>&quot;En curso&quot;</td><td>2023-10-29</td><td>null</td><td>null</td><td>null</td><td>null</td><td>null</td></tr><tr><td>&quot;WO0000005738715&quot;</td><td>&quot;LUREN&quot;</td><td>380004</td><td>&quot;Zona Sur&quot;</td><td>&quot;En curso&quot;</td><td>2023-10-29</td><td>null</td><td>null</td><td>null</td><td>null</td><td>null</td></tr><tr><td>&quot;WO0000005738721&quot;</td><td>&quot;PISCO&quot;</td><td>470000</td><td>&quot;Zona Sur&quot;</td><td>&quot;En curso&quot;</td><td>2023-10-29</td><td>null</td><td>null</td><td>null</td><td>null</td><td>null</td></tr><tr><td>&quot;WO0000005738726&quot;</td><td>&quot;NACIONES UNIDAS&quot;</td><td>191084</td><td>&quot;Zona Centro&quot;</td><td>&quot;En curso&quot;</td><td>2023-10-29</td><td>null</td><td>null</td><td>null</td><td>null</td><td>null</td></tr><tr><td>&quot;WO0000005738729&quot;</td><td>&quot;NACIONES UNIDAS&quot;</td><td>191084</td><td>&quot;Zona Centro&quot;</td><td>&quot;En curso&quot;</td><td>2023-10-29</td><td>null</td><td>null</td><td>null</td><td>null</td><td>null</td></tr></tbody></table></div>"
      ],
      "text/plain": [
       "shape: (22_215, 11)\n",
       "┌───────────┬───────────┬───────────┬───────────┬───┬───────────┬───────────┬───────────┬──────────┐\n",
       "│ TicketID  ┆ Agencia   ┆ AgenciaID ┆ Service   ┆ … ┆ Fecha     ┆ Fecha     ┆ Dias      ┆ Grupo    │\n",
       "│ ---       ┆ ---       ┆ ---       ┆ Desk      ┆   ┆ Cierre    ┆ Real Fin  ┆ Cierre    ┆ Dias     │\n",
       "│ str       ┆ str       ┆ i64       ┆ ---       ┆   ┆ ---       ┆ ---       ┆ ---       ┆ ---      │\n",
       "│           ┆           ┆           ┆ str       ┆   ┆ date      ┆ date      ┆ i64       ┆ str      │\n",
       "╞═══════════╪═══════════╪═══════════╪═══════════╪═══╪═══════════╪═══════════╪═══════════╪══════════╡\n",
       "│ OT0000004 ┆ NAYLAMP   ┆ 191143    ┆ Zona      ┆ … ┆ 2023-01-2 ┆ 2023-01-2 ┆ 25        ┆ + de 15  │\n",
       "│ 849379    ┆           ┆           ┆ Centro    ┆   ┆ 8         ┆ 5         ┆           ┆ días     │\n",
       "│ OT0000004 ┆ LOS       ┆ 193038    ┆ Zona Sur  ┆ … ┆ 2023-01-0 ┆ 2023-01-0 ┆ 4         ┆ 4 a 7    │\n",
       "│ 849382    ┆ DAMASCOS  ┆           ┆           ┆   ┆ 7         ┆ 4         ┆           ┆ días     │\n",
       "│ OT0000004 ┆ LUREN     ┆ 380004    ┆ Zona Sur  ┆ … ┆ 2023-01-0 ┆ 2023-01-0 ┆ 2         ┆ 0 a 3    │\n",
       "│ 849726    ┆           ┆           ┆           ┆   ┆ 5         ┆ 2         ┆           ┆ días     │\n",
       "│ OT0000004 ┆ EL PINO   ┆ 191087    ┆ Zona      ┆ … ┆ 2023-01-0 ┆ 2023-01-0 ┆ 6         ┆ 4 a 7    │\n",
       "│ 849732    ┆           ┆           ┆ Centro    ┆   ┆ 9         ┆ 6         ┆           ┆ días     │\n",
       "│ SA0000004 ┆ TUSILAGOS ┆ 191108    ┆ Zona      ┆ … ┆ null      ┆ null      ┆ null      ┆ null     │\n",
       "│ 849307    ┆           ┆           ┆ Centro    ┆   ┆           ┆           ┆           ┆          │\n",
       "│ …         ┆ …         ┆ …         ┆ …         ┆ … ┆ …         ┆ …         ┆ …         ┆ …        │\n",
       "│ WO0000005 ┆ MEGA      ┆ 191010    ┆ Zona      ┆ … ┆ null      ┆ null      ┆ null      ┆ null     │\n",
       "│ 738709    ┆ PLAZA     ┆           ┆ Centro    ┆   ┆           ┆           ┆           ┆          │\n",
       "│ WO0000005 ┆ LUREN     ┆ 380004    ┆ Zona Sur  ┆ … ┆ null      ┆ null      ┆ null      ┆ null     │\n",
       "│ 738715    ┆           ┆           ┆           ┆   ┆           ┆           ┆           ┆          │\n",
       "│ WO0000005 ┆ PISCO     ┆ 470000    ┆ Zona Sur  ┆ … ┆ null      ┆ null      ┆ null      ┆ null     │\n",
       "│ 738721    ┆           ┆           ┆           ┆   ┆           ┆           ┆           ┆          │\n",
       "│ WO0000005 ┆ NACIONES  ┆ 191084    ┆ Zona      ┆ … ┆ null      ┆ null      ┆ null      ┆ null     │\n",
       "│ 738726    ┆ UNIDAS    ┆           ┆ Centro    ┆   ┆           ┆           ┆           ┆          │\n",
       "│ WO0000005 ┆ NACIONES  ┆ 191084    ┆ Zona      ┆ … ┆ null      ┆ null      ┆ null      ┆ null     │\n",
       "│ 738729    ┆ UNIDAS    ┆           ┆ Centro    ┆   ┆           ┆           ┆           ┆          │\n",
       "└───────────┴───────────┴───────────┴───────────┴───┴───────────┴───────────┴───────────┴──────────┘"
      ]
     },
     "execution_count": 27,
     "metadata": {},
     "output_type": "execute_result"
    }
   ],
   "source": [
    "# Anexe o concatene la base histórica y la base actual con el fin de crear un\n",
    "# dataframe único llamado Tickets.\n",
    "\n",
    "Tickets = pl.concat([df_Tickets_Historico, df_Tickets_Actual], how = 'vertical' )\n",
    "\n",
    "# En la base Tickets no deberían existir duplicados, usted deberá eliminar los\n",
    "# duplicados basados en la base.\n",
    "\n",
    "# Elimine los duplicados de la base Tickets en base a la siguiente regla: Si existen\n",
    "# dos registros cuyo TicketID es igual, debe mantenerse aquel registro donde la\n",
    "# [Fecha Creacion] sea la más actual.\n",
    "\n",
    "Tickets = Tickets.sort(\n",
    "    by = ['TicketID', 'Fecha Creacion']\n",
    ").unique(\n",
    "    subset= 'TicketID',\n",
    "    keep = 'last',\n",
    "    maintain_order= True\n",
    ")\n",
    "\n",
    "# Divida la columna [Ubicación], en las columnas [Agencia] y [AgenciaID], use como\n",
    "# delimitador “ - “.\n",
    "\n",
    "# Asigne el tipo de dato entero a la columna AgenciaID.\n",
    "\n",
    "Tickets = Tickets.with_columns(\n",
    "    pl.col('Ubicacion').str.split_exact(' - ', 1).struct.rename_fields(['Agencia','AgenciaID'])\n",
    ").unnest('Ubicacion').cast({\"AgenciaID\" : pl.Int64})\n",
    "\n",
    "# Cree la columna [Fecha Real Fin]:\n",
    "# SI [Fecha Termino] es nulo ENTONCES [Fecha Cierre] SINO [Fecha Termino]\n",
    "\n",
    "Tickets = Tickets.with_columns(\n",
    "    pl.coalesce(['Fecha Termino', 'Fecha Cierre']).alias('Fecha Real Fin')\n",
    ")\n",
    "\n",
    "# Cree la columna [Dias Cierre], la cual es la diferencia en días entre la [Fecha Real\n",
    "# Fin] y [Fecha Creacion].\n",
    "\n",
    "Tickets = Tickets.with_columns(\n",
    "    (pl.col('Fecha Real Fin') - pl.col('Fecha Creacion')).dt.total_days().alias('Dias Cierre')\n",
    ")\n",
    "\n",
    "# Cree la columna [Grupo Dias] basado en la siguiente regla:\n",
    "# SI [Dias Cierre] es nulo ENTONCES Nulo\n",
    "# SI [Dias Cierre] <= 3 ENTONCES “0 a 3 días”\n",
    "# SI [Dias Cierre] <= 7 ENTONCES “4 a 7 días”\n",
    "# SI [Dias Cierre] <= 15 ENTONCES “8 a 15 días”\n",
    "# SI [Dias Cierre] > 15 ENTONCES “+15 días”\n",
    "\n",
    "Tickets = Tickets.with_columns(\n",
    "    pl.when(pl.col('Dias Cierre').is_null()).then(None)\n",
    "   .when((pl.col('Dias Cierre') <= 3)).then(pl.lit('0 a 3 días'))\n",
    "   .when((pl.col('Dias Cierre') <= 7)).then(pl.lit('4 a 7 días'))\n",
    "   .when((pl.col('Dias Cierre') <= 15)).then(pl.lit('8 a 15 días'))\n",
    "   .otherwise(pl.lit('+ de 15 días'))\n",
    "   .alias('Grupo Dias')\n",
    ")\n",
    "\n",
    "Tickets"
   ]
  },
  {
   "cell_type": "markdown",
   "metadata": {},
   "source": [
    "READ EXCEL CON POLARS"
   ]
  },
  {
   "cell_type": "code",
   "execution_count": 28,
   "metadata": {},
   "outputs": [
    {
     "data": {
      "text/html": [
       "<div><style>\n",
       ".dataframe > thead > tr,\n",
       ".dataframe > tbody > tr {\n",
       "  text-align: right;\n",
       "  white-space: pre-wrap;\n",
       "}\n",
       "</style>\n",
       "<small>shape: (12_604, 4)</small><table border=\"1\" class=\"dataframe\"><thead><tr><th>Numero Ticket</th><th>Tipo de Ticket</th><th>Proveedor</th><th>Costo Atencion</th></tr><tr><td>str</td><td>str</td><td>str</td><td>str</td></tr></thead><tbody><tr><td>&quot;WO0000005584689&quot;</td><td>&quot;Variable&quot;</td><td>&quot;MR EXPRESS&quot;</td><td>null</td></tr><tr><td>&quot;WO0000004544943&quot;</td><td>&quot;Rechazado&quot;</td><td>null</td><td>&quot;100&quot;</td></tr><tr><td>&quot;WO0000004545246&quot;</td><td>&quot;Rechazado&quot;</td><td>null</td><td>&quot;100&quot;</td></tr><tr><td>&quot;WO0000004559125&quot;</td><td>&quot;Rechazado&quot;</td><td>null</td><td>&quot;100&quot;</td></tr><tr><td>&quot;WO0000004707477&quot;</td><td>&quot;Rechazado&quot;</td><td>null</td><td>&quot;100&quot;</td></tr><tr><td>&hellip;</td><td>&hellip;</td><td>&hellip;</td><td>&hellip;</td></tr><tr><td>&quot;WO0000005737893&quot;</td><td>&quot;Variable&quot;</td><td>&quot;ACCENTURE&quot;</td><td>null</td></tr><tr><td>&quot;WO0000005738706&quot;</td><td>&quot;Variable&quot;</td><td>&quot;ACCENTURE&quot;</td><td>null</td></tr><tr><td>&quot;WO0000005738709&quot;</td><td>&quot;Variable&quot;</td><td>&quot;COORPORACION R&amp;M&quot;</td><td>null</td></tr><tr><td>&quot;WO0000005738726&quot;</td><td>&quot;Variable&quot;</td><td>&quot;ACCENTURE&quot;</td><td>null</td></tr><tr><td>&quot;WO0000005738729&quot;</td><td>&quot;Variable&quot;</td><td>&quot;ACCENTURE&quot;</td><td>null</td></tr></tbody></table></div>"
      ],
      "text/plain": [
       "shape: (12_604, 4)\n",
       "┌─────────────────┬────────────────┬──────────────────┬────────────────┐\n",
       "│ Numero Ticket   ┆ Tipo de Ticket ┆ Proveedor        ┆ Costo Atencion │\n",
       "│ ---             ┆ ---            ┆ ---              ┆ ---            │\n",
       "│ str             ┆ str            ┆ str              ┆ str            │\n",
       "╞═════════════════╪════════════════╪══════════════════╪════════════════╡\n",
       "│ WO0000005584689 ┆ Variable       ┆ MR EXPRESS       ┆ null           │\n",
       "│ WO0000004544943 ┆ Rechazado      ┆ null             ┆ 100            │\n",
       "│ WO0000004545246 ┆ Rechazado      ┆ null             ┆ 100            │\n",
       "│ WO0000004559125 ┆ Rechazado      ┆ null             ┆ 100            │\n",
       "│ WO0000004707477 ┆ Rechazado      ┆ null             ┆ 100            │\n",
       "│ …               ┆ …              ┆ …                ┆ …              │\n",
       "│ WO0000005737893 ┆ Variable       ┆ ACCENTURE        ┆ null           │\n",
       "│ WO0000005738706 ┆ Variable       ┆ ACCENTURE        ┆ null           │\n",
       "│ WO0000005738709 ┆ Variable       ┆ COORPORACION R&M ┆ null           │\n",
       "│ WO0000005738726 ┆ Variable       ┆ ACCENTURE        ┆ null           │\n",
       "│ WO0000005738729 ┆ Variable       ┆ ACCENTURE        ┆ null           │\n",
       "└─────────────────┴────────────────┴──────────────────┴────────────────┘"
      ]
     },
     "execution_count": 28,
     "metadata": {},
     "output_type": "execute_result"
    }
   ],
   "source": [
    "\n",
    "pl.read_excel(\n",
    "    source = './Atenciones/Atenciones Centro.xlsx',\n",
    "    engine = 'xlsx2csv',\n",
    "    read_options= {\n",
    "        \"columns\" : [\"Numero Ticket\" , \"Tipo de Ticket\" , \"Proveedor\" , \"Costo Atencion\"],\n",
    "        \"dtypes\" : {\"Costo Atencion\" : pl.Utf8},\n",
    "        #\"skip_rows\" : 4,\n",
    "        #\"has_header\" : True\n",
    "    }\n",
    ")\n"
   ]
  },
  {
   "cell_type": "markdown",
   "metadata": {},
   "source": [
    "TRABAJANDO ATENCIONES"
   ]
  },
  {
   "cell_type": "code",
   "execution_count": 29,
   "metadata": {},
   "outputs": [
    {
     "data": {
      "text/html": [
       "<div><style>\n",
       ".dataframe > thead > tr,\n",
       ".dataframe > tbody > tr {\n",
       "  text-align: right;\n",
       "  white-space: pre-wrap;\n",
       "}\n",
       "</style>\n",
       "<small>shape: (22_717, 4)</small><table border=\"1\" class=\"dataframe\"><thead><tr><th>TicketID</th><th>Tipo de Ticket</th><th>Proveedor</th><th>Costo Atencion</th></tr><tr><td>str</td><td>str</td><td>str</td><td>f64</td></tr></thead><tbody><tr><td>&quot;WO0000005584689&quot;</td><td>&quot;Variable&quot;</td><td>&quot;MR EXPRESS&quot;</td><td>null</td></tr><tr><td>&quot;WO0000004544943&quot;</td><td>&quot;Rechazado&quot;</td><td>null</td><td>100.0</td></tr><tr><td>&quot;WO0000004545246&quot;</td><td>&quot;Rechazado&quot;</td><td>null</td><td>100.0</td></tr><tr><td>&quot;WO0000004559125&quot;</td><td>&quot;Rechazado&quot;</td><td>null</td><td>100.0</td></tr><tr><td>&quot;WO0000004707477&quot;</td><td>&quot;Rechazado&quot;</td><td>null</td><td>100.0</td></tr><tr><td>&hellip;</td><td>&hellip;</td><td>&hellip;</td><td>&hellip;</td></tr><tr><td>&quot;WO0000005738348&quot;</td><td>&quot;Rechazado&quot;</td><td>&quot;OTROS&quot;</td><td>null</td></tr><tr><td>&quot;WO0000005738704&quot;</td><td>&quot;Variable&quot;</td><td>&quot;PROSEGUR&quot;</td><td>null</td></tr><tr><td>&quot;WO0000005738705&quot;</td><td>&quot;Variable&quot;</td><td>&quot;COORPORACION R&amp;M&quot;</td><td>null</td></tr><tr><td>&quot;WO0000005738715&quot;</td><td>&quot;Variable&quot;</td><td>&quot;PROSEGUR&quot;</td><td>null</td></tr><tr><td>&quot;WO0000005738721&quot;</td><td>&quot;Flat&quot;</td><td>&quot;ACCENTURE&quot;</td><td>null</td></tr></tbody></table></div>"
      ],
      "text/plain": [
       "shape: (22_717, 4)\n",
       "┌─────────────────┬────────────────┬──────────────────┬────────────────┐\n",
       "│ TicketID        ┆ Tipo de Ticket ┆ Proveedor        ┆ Costo Atencion │\n",
       "│ ---             ┆ ---            ┆ ---              ┆ ---            │\n",
       "│ str             ┆ str            ┆ str              ┆ f64            │\n",
       "╞═════════════════╪════════════════╪══════════════════╪════════════════╡\n",
       "│ WO0000005584689 ┆ Variable       ┆ MR EXPRESS       ┆ null           │\n",
       "│ WO0000004544943 ┆ Rechazado      ┆ null             ┆ 100.0          │\n",
       "│ WO0000004545246 ┆ Rechazado      ┆ null             ┆ 100.0          │\n",
       "│ WO0000004559125 ┆ Rechazado      ┆ null             ┆ 100.0          │\n",
       "│ WO0000004707477 ┆ Rechazado      ┆ null             ┆ 100.0          │\n",
       "│ …               ┆ …              ┆ …                ┆ …              │\n",
       "│ WO0000005738348 ┆ Rechazado      ┆ OTROS            ┆ null           │\n",
       "│ WO0000005738704 ┆ Variable       ┆ PROSEGUR         ┆ null           │\n",
       "│ WO0000005738705 ┆ Variable       ┆ COORPORACION R&M ┆ null           │\n",
       "│ WO0000005738715 ┆ Variable       ┆ PROSEGUR         ┆ null           │\n",
       "│ WO0000005738721 ┆ Flat           ┆ ACCENTURE        ┆ null           │\n",
       "└─────────────────┴────────────────┴──────────────────┴────────────────┘"
      ]
     },
     "execution_count": 29,
     "metadata": {},
     "output_type": "execute_result"
    }
   ],
   "source": [
    "# Importe los Excel de la carpeta Atenciones, recuerde que la importación se debe\n",
    "# realizar de manear masiva. De cada Excel solo se deberá importar las columnas:\n",
    "# Numero Ticket, Tipo de Ticket, Proveedor y Costo Atencion; la columna Costo Atencion debe ser de tipo texto.\n",
    "\n",
    "from pathlib import Path\n",
    "\n",
    "Ruta_Carpeta = Path('./Atenciones')\n",
    "\n",
    "Archivos = list(Ruta_Carpeta.glob('*.xlsx'))\n",
    "\n",
    "dataAtenciones = pl.DataFrame()\n",
    "\n",
    "for archivo in Archivos:\n",
    "    file = archivo.name\n",
    "    filepath = f'./Atenciones/{file}'\n",
    "\n",
    "    aux_df = pl.read_excel(\n",
    "            source = filepath,\n",
    "            engine = 'xlsx2csv',\n",
    "            read_options= {\n",
    "                \"columns\" : [\"Numero Ticket\" , \"Tipo de Ticket\" , \"Proveedor\" , \"Costo Atencion\"],\n",
    "                \"dtypes\" : {\"Costo Atencion\" : pl.Utf8},\n",
    "                #\"skip_rows\" : 4,\n",
    "                #\"has_header\" : True\n",
    "            }\n",
    "\n",
    "    )\n",
    "    aux_df = aux_df.with_columns(pl.lit(file).alias('Nombre_Archivo'))\n",
    "    dataAtenciones = pl.concat([dataAtenciones, aux_df], how = 'vertical')\n",
    "\n",
    "# Cambie el nombre de la columna “Numero Ticket” por “TicketID”.\n",
    "\n",
    "# Coloque en mayúscula los valores de la columna [Costo Atencion], luego realice\n",
    "# el reemplace de la coma por el punto; así también, reemplace los textos “SIN\n",
    "# COSTO” y “COSTO CERO” por el valor “0”.\n",
    "\n",
    "dataAtenciones = dataAtenciones.select(\n",
    "    pl.col('Numero Ticket').alias('TicketID'), \n",
    "    'Tipo de Ticket',\n",
    "    'Proveedor',\n",
    "    pl.col('Costo Atencion').str.replace(',','.').str.replace_many(['COSTO CERO','SIN COSTO'],\"0\")\n",
    ")\n",
    "\n",
    "# Convierta la columna [Costo Atencion] al tipo de dato decimal, todos aquellos\n",
    "# valores que no se puedan convertir deberían ser reemplazados por nulo.\n",
    "\n",
    "def texto_a_decimal(valor):\n",
    "    try:\n",
    "        return round(float(valor), 2)\n",
    "    except:\n",
    "        return None\n",
    "\n",
    "dataAtenciones = dataAtenciones.with_columns(\n",
    "    pl.col('Costo Atencion').map_elements(texto_a_decimal,return_dtype= float).alias('Costo Atencion')\n",
    ")\n",
    "\n",
    "dataAtenciones\n",
    "\n",
    "\n"
   ]
  },
  {
   "cell_type": "markdown",
   "metadata": {},
   "source": [
    "COMBINANDO ARCHIVOS TRABAJADOS (TICKETS Y ATENCIONES)"
   ]
  },
  {
   "cell_type": "code",
   "execution_count": 32,
   "metadata": {},
   "outputs": [
    {
     "data": {
      "text/html": [
       "<div><style>\n",
       ".dataframe > thead > tr,\n",
       ".dataframe > tbody > tr {\n",
       "  text-align: right;\n",
       "  white-space: pre-wrap;\n",
       "}\n",
       "</style>\n",
       "<small>shape: (22_717, 14)</small><table border=\"1\" class=\"dataframe\"><thead><tr><th>TicketID</th><th>Agencia</th><th>AgenciaID</th><th>Service Desk</th><th>Estado</th><th>Fecha Creacion</th><th>Fecha Termino</th><th>Fecha Cierre</th><th>Fecha Real Fin</th><th>Dias Cierre</th><th>Grupo Dias</th><th>Tipo de Ticket</th><th>Proveedor</th><th>Costo Atencion</th></tr><tr><td>str</td><td>str</td><td>i64</td><td>str</td><td>str</td><td>date</td><td>date</td><td>date</td><td>date</td><td>i64</td><td>str</td><td>str</td><td>str</td><td>f64</td></tr></thead><tbody><tr><td>&quot;WO0000005584689&quot;</td><td>&quot;LAS MALVINAS&quot;</td><td>191076</td><td>&quot;Zona Centro&quot;</td><td>&quot;Cerrado&quot;</td><td>2023-09-08</td><td>2023-09-17</td><td>2023-09-20</td><td>2023-09-17</td><td>9</td><td>&quot;8 a 15 días&quot;</td><td>&quot;Variable&quot;</td><td>&quot;MR EXPRESS&quot;</td><td>null</td></tr><tr><td>&quot;WO0000004544943&quot;</td><td>&quot;URB SAN FELIPE COMAS&quot;</td><td>191053</td><td>&quot;Zona Centro&quot;</td><td>&quot;Rechazado&quot;</td><td>2022-10-18</td><td>2022-10-18</td><td>null</td><td>2022-10-18</td><td>0</td><td>&quot;0 a 3 días&quot;</td><td>&quot;Rechazado&quot;</td><td>null</td><td>100.0</td></tr><tr><td>&quot;WO0000004545246&quot;</td><td>&quot;PUENTE PIEDRA&quot;</td><td>191035</td><td>&quot;Zona Centro&quot;</td><td>&quot;Rechazado&quot;</td><td>2022-10-18</td><td>2022-10-18</td><td>null</td><td>2022-10-18</td><td>0</td><td>&quot;0 a 3 días&quot;</td><td>&quot;Rechazado&quot;</td><td>null</td><td>100.0</td></tr><tr><td>&quot;WO0000004559125&quot;</td><td>&quot;EL PINO&quot;</td><td>191087</td><td>&quot;Zona Centro&quot;</td><td>&quot;Rechazado&quot;</td><td>2022-10-24</td><td>2022-10-25</td><td>null</td><td>2022-10-25</td><td>1</td><td>&quot;0 a 3 días&quot;</td><td>&quot;Rechazado&quot;</td><td>null</td><td>100.0</td></tr><tr><td>&quot;WO0000004707477&quot;</td><td>&quot;LAS ALONDRAS&quot;</td><td>191044</td><td>&quot;Zona Centro&quot;</td><td>&quot;Rechazado&quot;</td><td>2022-11-08</td><td>null</td><td>null</td><td>null</td><td>null</td><td>null</td><td>&quot;Rechazado&quot;</td><td>null</td><td>100.0</td></tr><tr><td>&hellip;</td><td>&hellip;</td><td>&hellip;</td><td>&hellip;</td><td>&hellip;</td><td>&hellip;</td><td>&hellip;</td><td>&hellip;</td><td>&hellip;</td><td>&hellip;</td><td>&hellip;</td><td>&hellip;</td><td>&hellip;</td><td>&hellip;</td></tr><tr><td>&quot;WO0000005738348&quot;</td><td>&quot;LA FONTANA&quot;</td><td>193054</td><td>&quot;Zona Sur&quot;</td><td>&quot;Rechazado&quot;</td><td>2023-10-29</td><td>null</td><td>null</td><td>null</td><td>null</td><td>null</td><td>&quot;Rechazado&quot;</td><td>&quot;OTROS&quot;</td><td>null</td></tr><tr><td>&quot;WO0000005738704&quot;</td><td>&quot;IMPERIAL&quot;</td><td>255001</td><td>&quot;Zona Sur&quot;</td><td>&quot;En curso&quot;</td><td>2023-10-29</td><td>null</td><td>null</td><td>null</td><td>null</td><td>null</td><td>&quot;Variable&quot;</td><td>&quot;PROSEGUR&quot;</td><td>null</td></tr><tr><td>&quot;WO0000005738705&quot;</td><td>&quot;PISCO&quot;</td><td>470000</td><td>&quot;Zona Sur&quot;</td><td>&quot;En curso&quot;</td><td>2023-10-29</td><td>null</td><td>null</td><td>null</td><td>null</td><td>null</td><td>&quot;Variable&quot;</td><td>&quot;COORPORACION R&amp;M&quot;</td><td>null</td></tr><tr><td>&quot;WO0000005738715&quot;</td><td>&quot;LUREN&quot;</td><td>380004</td><td>&quot;Zona Sur&quot;</td><td>&quot;En curso&quot;</td><td>2023-10-29</td><td>null</td><td>null</td><td>null</td><td>null</td><td>null</td><td>&quot;Variable&quot;</td><td>&quot;PROSEGUR&quot;</td><td>null</td></tr><tr><td>&quot;WO0000005738721&quot;</td><td>&quot;PISCO&quot;</td><td>470000</td><td>&quot;Zona Sur&quot;</td><td>&quot;En curso&quot;</td><td>2023-10-29</td><td>null</td><td>null</td><td>null</td><td>null</td><td>null</td><td>&quot;Flat&quot;</td><td>&quot;ACCENTURE&quot;</td><td>null</td></tr></tbody></table></div>"
      ],
      "text/plain": [
       "shape: (22_717, 14)\n",
       "┌───────────┬───────────┬───────────┬───────────┬───┬───────────┬───────────┬───────────┬──────────┐\n",
       "│ TicketID  ┆ Agencia   ┆ AgenciaID ┆ Service   ┆ … ┆ Grupo     ┆ Tipo de   ┆ Proveedor ┆ Costo    │\n",
       "│ ---       ┆ ---       ┆ ---       ┆ Desk      ┆   ┆ Dias      ┆ Ticket    ┆ ---       ┆ Atencion │\n",
       "│ str       ┆ str       ┆ i64       ┆ ---       ┆   ┆ ---       ┆ ---       ┆ str       ┆ ---      │\n",
       "│           ┆           ┆           ┆ str       ┆   ┆ str       ┆ str       ┆           ┆ f64      │\n",
       "╞═══════════╪═══════════╪═══════════╪═══════════╪═══╪═══════════╪═══════════╪═══════════╪══════════╡\n",
       "│ WO0000005 ┆ LAS       ┆ 191076    ┆ Zona      ┆ … ┆ 8 a 15    ┆ Variable  ┆ MR        ┆ null     │\n",
       "│ 584689    ┆ MALVINAS  ┆           ┆ Centro    ┆   ┆ días      ┆           ┆ EXPRESS   ┆          │\n",
       "│ WO0000004 ┆ URB SAN   ┆ 191053    ┆ Zona      ┆ … ┆ 0 a 3     ┆ Rechazado ┆ null      ┆ 100.0    │\n",
       "│ 544943    ┆ FELIPE    ┆           ┆ Centro    ┆   ┆ días      ┆           ┆           ┆          │\n",
       "│           ┆ COMAS     ┆           ┆           ┆   ┆           ┆           ┆           ┆          │\n",
       "│ WO0000004 ┆ PUENTE    ┆ 191035    ┆ Zona      ┆ … ┆ 0 a 3     ┆ Rechazado ┆ null      ┆ 100.0    │\n",
       "│ 545246    ┆ PIEDRA    ┆           ┆ Centro    ┆   ┆ días      ┆           ┆           ┆          │\n",
       "│ WO0000004 ┆ EL PINO   ┆ 191087    ┆ Zona      ┆ … ┆ 0 a 3     ┆ Rechazado ┆ null      ┆ 100.0    │\n",
       "│ 559125    ┆           ┆           ┆ Centro    ┆   ┆ días      ┆           ┆           ┆          │\n",
       "│ WO0000004 ┆ LAS       ┆ 191044    ┆ Zona      ┆ … ┆ null      ┆ Rechazado ┆ null      ┆ 100.0    │\n",
       "│ 707477    ┆ ALONDRAS  ┆           ┆ Centro    ┆   ┆           ┆           ┆           ┆          │\n",
       "│ …         ┆ …         ┆ …         ┆ …         ┆ … ┆ …         ┆ …         ┆ …         ┆ …        │\n",
       "│ WO0000005 ┆ LA        ┆ 193054    ┆ Zona Sur  ┆ … ┆ null      ┆ Rechazado ┆ OTROS     ┆ null     │\n",
       "│ 738348    ┆ FONTANA   ┆           ┆           ┆   ┆           ┆           ┆           ┆          │\n",
       "│ WO0000005 ┆ IMPERIAL  ┆ 255001    ┆ Zona Sur  ┆ … ┆ null      ┆ Variable  ┆ PROSEGUR  ┆ null     │\n",
       "│ 738704    ┆           ┆           ┆           ┆   ┆           ┆           ┆           ┆          │\n",
       "│ WO0000005 ┆ PISCO     ┆ 470000    ┆ Zona Sur  ┆ … ┆ null      ┆ Variable  ┆ COORPORAC ┆ null     │\n",
       "│ 738705    ┆           ┆           ┆           ┆   ┆           ┆           ┆ ION R&M   ┆          │\n",
       "│ WO0000005 ┆ LUREN     ┆ 380004    ┆ Zona Sur  ┆ … ┆ null      ┆ Variable  ┆ PROSEGUR  ┆ null     │\n",
       "│ 738715    ┆           ┆           ┆           ┆   ┆           ┆           ┆           ┆          │\n",
       "│ WO0000005 ┆ PISCO     ┆ 470000    ┆ Zona Sur  ┆ … ┆ null      ┆ Flat      ┆ ACCENTURE ┆ null     │\n",
       "│ 738721    ┆           ┆           ┆           ┆   ┆           ┆           ┆           ┆          │\n",
       "└───────────┴───────────┴───────────┴───────────┴───┴───────────┴───────────┴───────────┴──────────┘"
      ]
     },
     "execution_count": 32,
     "metadata": {},
     "output_type": "execute_result"
    }
   ],
   "source": [
    "# Realice una combinación de tipo Inner Join entre los dataframe Tickets y\n",
    "# Atenciones, usando como columna del match [TicketID].\n",
    "\n",
    "Tickets.join(\n",
    "    dataAtenciones,\n",
    "    on = 'TicketID',\n",
    "    how = 'inner'\n",
    ")\n"
   ]
  }
 ],
 "metadata": {
  "kernelspec": {
   "display_name": "AVpythonclases",
   "language": "python",
   "name": "python3"
  },
  "language_info": {
   "codemirror_mode": {
    "name": "ipython",
    "version": 3
   },
   "file_extension": ".py",
   "mimetype": "text/x-python",
   "name": "python",
   "nbconvert_exporter": "python",
   "pygments_lexer": "ipython3",
   "version": "3.12.3"
  }
 },
 "nbformat": 4,
 "nbformat_minor": 2
}
